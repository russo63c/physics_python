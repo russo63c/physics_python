{
 "cells": [
  {
   "cell_type": "code",
   "execution_count": 1,
   "metadata": {
    "colab": {
     "base_uri": "https://localhost:8080/"
    },
    "executionInfo": {
     "elapsed": 13309,
     "status": "ok",
     "timestamp": 1752759246507,
     "user": {
      "displayName": "Carlo Russo",
      "userId": "02864443432483670245"
     },
     "user_tz": -120
    },
    "id": "hA5RD6N5HRDU",
    "outputId": "a4bd369d-b13b-49de-9c1a-19ae48ed2699"
   },
   "outputs": [
    {
     "name": "stdin",
     "output_type": "stream",
     "text": [
      "Convesione Intensità sonora - Decibel o Decibel Intensità sonora (1,2)  100\n"
     ]
    },
    {
     "name": "stdout",
     "output_type": "stream",
     "text": [
      "Scegli tra 1 e 2.\n"
     ]
    },
    {
     "name": "stdin",
     "output_type": "stream",
     "text": [
      "Convesione Intensità sonora - Decibel o Decibel Intensità sonora (1,2)  1\n",
      "Entra il valore dell'Intesità sonora (W/m2)  100\n"
     ]
    },
    {
     "name": "stdout",
     "output_type": "stream",
     "text": [
      "IL =  130.0  db\n"
     ]
    }
   ],
   "source": [
    "import math as mt\n",
    "\n",
    "def decibel(I):\n",
    "    I0=10e-12\n",
    "    dec=10*mt.log10(I/I0)\n",
    "\n",
    "    return dec\n",
    "\n",
    "def Intensity(IL):\n",
    "     I0=10e-12\n",
    "     Int=I0*mt.pow(10, IL/10)\n",
    "\n",
    "     return Int\n",
    "\n",
    "while True:\n",
    "    try:\n",
    "        n = int(input(\"Convesione Intensità sonora - Decibel o Decibel Intensità sonora (1,2) \" ))\n",
    "        if 1 <= n <= 2:\n",
    "            break\n",
    "        else:\n",
    "            print(\"Scegli tra 1 e 2.\")\n",
    "    except ValueError:\n",
    "        print(\"Per favore, Scegli tra 1 e 2 .\")\n",
    "\n",
    "if n==1:\n",
    "    I = float(input(\"Entra il valore dell'Intesità sonora (W/m2) \"))\n",
    "    print(\"IL = \", decibel(I), \" db\")\n",
    "else:\n",
    "    IL=float(input(\"Entra il valore in decibel \"))\n",
    "    print(\"Intensità sonora I = \", Intensity(IL), \" W/m2\")\n"
   ]
  },
  {
   "cell_type": "code",
   "execution_count": null,
   "metadata": {},
   "outputs": [],
   "source": []
  }
 ],
 "metadata": {
  "colab": {
   "authorship_tag": "ABX9TyPCP9VEHkGAyQiUcn2Re6tc",
   "provenance": []
  },
  "kernelspec": {
   "display_name": "Python [conda env:base] *",
   "language": "python",
   "name": "conda-base-py"
  },
  "language_info": {
   "codemirror_mode": {
    "name": "ipython",
    "version": 3
   },
   "file_extension": ".py",
   "mimetype": "text/x-python",
   "name": "python",
   "nbconvert_exporter": "python",
   "pygments_lexer": "ipython3",
   "version": "3.13.5"
  }
 },
 "nbformat": 4,
 "nbformat_minor": 4
}
